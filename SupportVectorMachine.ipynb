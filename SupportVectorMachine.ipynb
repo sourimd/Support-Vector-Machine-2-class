{
 "metadata": {
  "name": "",
  "signature": "sha256:594880ff37c21ad56cf9721d3254f6cc4553065f3d4043445e057c556826a97a"
 },
 "nbformat": 3,
 "nbformat_minor": 0,
 "worksheets": [
  {
   "cells": [
    {
     "cell_type": "code",
     "collapsed": false,
     "input": [
      "import numpy as np\n",
      "from scipy import stats as s\n",
      "from scipy.stats import multivariate_normal as mn\n",
      "from sklearn.preprocessing import StandardScaler\n",
      "from sklearn import svm\n",
      "#from sklearn import datasets\n",
      "\n",
      "H = np.loadtxt('/home/user/PRTakeHome1/train_sp2015_v14')\n",
      "St= np.loadtxt('/home/user/PRTakeHome1/test_sp2015_v14')"
     ],
     "language": "python",
     "metadata": {},
     "outputs": [],
     "prompt_number": 1
    },
    {
     "cell_type": "code",
     "collapsed": false,
     "input": [
      "print H.shape\n",
      "c1data = H[0:5000, 0:4]\n",
      "print c1data.shape\n",
      "c3data = H[10000:15000, 0:4]\n",
      "print c3data.shape"
     ],
     "language": "python",
     "metadata": {},
     "outputs": [
      {
       "output_type": "stream",
       "stream": "stdout",
       "text": [
        "(15000, 4)\n",
        "(5000, 4)\n",
        "(5000, 4)\n"
       ]
      }
     ],
     "prompt_number": 2
    },
    {
     "cell_type": "code",
     "collapsed": false,
     "input": [
      "targetData = np.concatenate((c1data, c3data), axis=0)\n",
      "targetData.shape"
     ],
     "language": "python",
     "metadata": {},
     "outputs": [
      {
       "metadata": {},
       "output_type": "pyout",
       "prompt_number": 3,
       "text": [
        "(10000, 4)"
       ]
      }
     ],
     "prompt_number": 3
    },
    {
     "cell_type": "code",
     "collapsed": false,
     "input": [
      "target = []\n",
      "for i in range(5000):\n",
      "    target.append(1)\n",
      "for i in range(5000):\n",
      "    target.append(3)\n",
      "    \n",
      "tar = np.array( target )\n",
      "print tar.shape"
     ],
     "language": "python",
     "metadata": {},
     "outputs": [
      {
       "output_type": "stream",
       "stream": "stdout",
       "text": [
        "(10000,)\n"
       ]
      }
     ],
     "prompt_number": 4
    },
    {
     "cell_type": "code",
     "collapsed": false,
     "input": [
      "# svc = svm.LinearSVC()\n",
      "# svc.fit( targetData, tar)\n",
      "# svc.coef_"
     ],
     "language": "python",
     "metadata": {},
     "outputs": [
      {
       "metadata": {},
       "output_type": "pyout",
       "prompt_number": 5,
       "text": [
        "array([[ 0.00432889, -0.00647482, -0.00183927, -0.00779834]])"
       ]
      }
     ],
     "prompt_number": 5
    },
    {
     "cell_type": "code",
     "collapsed": false,
     "input": [
      "svc1 = svm.SVC(kernel = 'linear', C = 0.01)\n",
      "svc1.fit( targetData, tar)"
     ],
     "language": "python",
     "metadata": {},
     "outputs": [
      {
       "metadata": {},
       "output_type": "pyout",
       "prompt_number": 5,
       "text": [
        "SVC(C=0.01, cache_size=200, class_weight=None, coef0=0.0, degree=3, gamma=0.0,\n",
        "  kernel='linear', max_iter=-1, probability=False, random_state=None,\n",
        "  shrinking=True, tol=0.001, verbose=False)"
       ]
      }
     ],
     "prompt_number": 5
    },
    {
     "cell_type": "code",
     "collapsed": false,
     "input": [
      "#print svc1.predict( c3data[3] )[0]\n",
      "print svc1.support_vectors_.shape\n",
      "print svc1.n_support_\n",
      "# hyperplane coeff\n",
      "print svc1.coef_\n",
      "print svc1.coef0"
     ],
     "language": "python",
     "metadata": {},
     "outputs": [
      {
       "output_type": "stream",
       "stream": "stdout",
       "text": [
        "(6625, 4)\n",
        "[3312 3313]\n",
        "[[-0.00111633 -0.02052913 -0.00064846 -0.00010827]]"
       ]
      },
      {
       "output_type": "stream",
       "stream": "stdout",
       "text": [
        "\n",
        "0.0\n"
       ]
      }
     ],
     "prompt_number": 6
    },
    {
     "cell_type": "code",
     "collapsed": false,
     "input": [
      "# w11 = 0\n",
      "# w13 = 0\n",
      "# for i in range( 5000):\n",
      "#     cl = svc.predict( c1data[i] )[0]\n",
      "#     if cl == 1:\n",
      "#         w11 = w11+1\n",
      "#     elif cl == 3 :\n",
      "#         w13 = w13+1\n",
      "#     else:\n",
      "#         print \"vulval\"\n",
      "# print w11\n",
      "# print w13"
     ],
     "language": "python",
     "metadata": {},
     "outputs": [],
     "prompt_number": 18
    },
    {
     "cell_type": "code",
     "collapsed": false,
     "input": [
      "w11 = 0\n",
      "w13 = 0\n",
      "for i in range( 5000):\n",
      "    cl = svc1.predict( c1data[i] )[0]\n",
      "    if cl == 1:\n",
      "        w11 = w11+1\n",
      "    elif cl == 3 :\n",
      "        w13 = w13+1\n",
      "    else:\n",
      "        print \"vulval\"\n",
      "print w11\n",
      "print w13"
     ],
     "language": "python",
     "metadata": {},
     "outputs": [
      {
       "output_type": "stream",
       "stream": "stdout",
       "text": [
        "3515\n",
        "1485\n"
       ]
      }
     ],
     "prompt_number": 8
    },
    {
     "cell_type": "code",
     "collapsed": false,
     "input": [
      "# w33 = 0\n",
      "# w31 = 0\n",
      "# for i in range( 5000):\n",
      "#     cl = svc.predict( c3data[i] )[0]\n",
      "#     if cl == 3:\n",
      "#         w33 = w33+1\n",
      "#     elif cl == 1 :\n",
      "#         w31 = w31+1\n",
      "#     else:\n",
      "#         print \"vulval\"\n",
      "# print w33\n",
      "# print w31"
     ],
     "language": "python",
     "metadata": {},
     "outputs": [],
     "prompt_number": 19
    },
    {
     "cell_type": "code",
     "collapsed": false,
     "input": [
      "w33 = 0\n",
      "w31 = 0\n",
      "for i in range( 5000):\n",
      "    cl = svc1.predict( c3data[i] )[0]\n",
      "    if cl == 3:\n",
      "        w33 = w33+1\n",
      "    elif cl == 1 :\n",
      "        w31 = w31+1\n",
      "    else:\n",
      "        print \"vulval\"\n",
      "print w33\n",
      "print w31"
     ],
     "language": "python",
     "metadata": {},
     "outputs": [
      {
       "output_type": "stream",
       "stream": "stdout",
       "text": [
        "3568\n",
        "1432\n"
       ]
      }
     ],
     "prompt_number": 9
    },
    {
     "cell_type": "code",
     "collapsed": false,
     "input": [
      "svc1 = svm.SVC( kernel='rbf')\n",
      "svc1.fit( targetData, tar)"
     ],
     "language": "python",
     "metadata": {},
     "outputs": [
      {
       "metadata": {},
       "output_type": "pyout",
       "prompt_number": 20,
       "text": [
        "SVC(C=1.0, cache_size=200, class_weight=None, coef0=0.0, degree=3, gamma=0.0,\n",
        "  kernel='rbf', max_iter=-1, probability=False, random_state=None,\n",
        "  shrinking=True, tol=0.001, verbose=False)"
       ]
      }
     ],
     "prompt_number": 20
    },
    {
     "cell_type": "code",
     "collapsed": false,
     "input": [
      "w11r = 0\n",
      "w13r = 0\n",
      "for i in range( 5000):\n",
      "    cl = svc1.predict( c1data[i] )[0]\n",
      "    if cl == 1:\n",
      "        w11r = w11r+1\n",
      "    elif cl == 3 :\n",
      "        w13r = w13r+1\n",
      "    else:\n",
      "        print \"vulval\"\n",
      "print w11r\n",
      "print w13r"
     ],
     "language": "python",
     "metadata": {},
     "outputs": [
      {
       "output_type": "stream",
       "stream": "stdout",
       "text": [
        "5000\n",
        "0\n"
       ]
      }
     ],
     "prompt_number": 21
    },
    {
     "cell_type": "code",
     "collapsed": false,
     "input": [
      "w33r = 0\n",
      "w31r = 0\n",
      "for i in range( 5000):\n",
      "    cl = svc1.predict( c3data[i] )[0]\n",
      "    if cl == 3:\n",
      "        w33r = w33r+1\n",
      "    elif cl == 1 :\n",
      "        w31r = w31r+1\n",
      "    else:\n",
      "        print \"vulval\"\n",
      "print w33r\n",
      "print w31r"
     ],
     "language": "python",
     "metadata": {},
     "outputs": [
      {
       "output_type": "stream",
       "stream": "stdout",
       "text": [
        "5000\n",
        "0\n"
       ]
      }
     ],
     "prompt_number": 22
    },
    {
     "cell_type": "code",
     "collapsed": false,
     "input": [
      "print svc1.support_vectors_.shape\n",
      "print svc1.kernel"
     ],
     "language": "python",
     "metadata": {},
     "outputs": [
      {
       "output_type": "stream",
       "stream": "stdout",
       "text": [
        "(10000, 4)\n",
        "rbf\n"
       ]
      }
     ],
     "prompt_number": 23
    }
   ],
   "metadata": {}
  }
 ]
}